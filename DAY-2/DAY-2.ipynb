{
 "cells": [
  {
   "cell_type": "markdown",
   "id": "9efa0f25",
   "metadata": {},
   "source": [
    "# Day -1"
   ]
  },
  {
   "cell_type": "code",
   "execution_count": 30,
   "id": "ee536647",
   "metadata": {},
   "outputs": [],
   "source": [
    "#lists"
   ]
  },
  {
   "cell_type": "code",
   "execution_count": 1,
   "id": "3a4f1f98",
   "metadata": {
    "scrolled": true
   },
   "outputs": [
    {
     "name": "stdout",
     "output_type": "stream",
     "text": [
      "9\n",
      "45\n"
     ]
    }
   ],
   "source": [
    "x=[1,2,3,4,5,6,7,8,9]\n",
    "print(len(x))\n",
    "print(sum(x))"
   ]
  },
  {
   "cell_type": "code",
   "execution_count": 2,
   "id": "1406134d",
   "metadata": {},
   "outputs": [],
   "source": [
    "x.append(10)"
   ]
  },
  {
   "cell_type": "code",
   "execution_count": 3,
   "id": "9908e9ea",
   "metadata": {},
   "outputs": [
    {
     "data": {
      "text/plain": [
       "[1, 2, 3, 4, 5, 6, 7, 8, 9, 10]"
      ]
     },
     "execution_count": 3,
     "metadata": {},
     "output_type": "execute_result"
    }
   ],
   "source": [
    "x"
   ]
  },
  {
   "cell_type": "code",
   "execution_count": 4,
   "id": "cde3e4ac",
   "metadata": {},
   "outputs": [],
   "source": [
    "x.clear()"
   ]
  },
  {
   "cell_type": "code",
   "execution_count": 5,
   "id": "85d61d5b",
   "metadata": {},
   "outputs": [
    {
     "data": {
      "text/plain": [
       "[]"
      ]
     },
     "execution_count": 5,
     "metadata": {},
     "output_type": "execute_result"
    }
   ],
   "source": [
    "x"
   ]
  },
  {
   "cell_type": "code",
   "execution_count": 6,
   "id": "53db3986",
   "metadata": {},
   "outputs": [],
   "source": [
    "y=[11,12,13]"
   ]
  },
  {
   "cell_type": "code",
   "execution_count": 7,
   "id": "e207431f",
   "metadata": {},
   "outputs": [],
   "source": [
    "x.extend(y)"
   ]
  },
  {
   "cell_type": "code",
   "execution_count": 8,
   "id": "14968113",
   "metadata": {},
   "outputs": [
    {
     "data": {
      "text/plain": [
       "[11, 12, 13]"
      ]
     },
     "execution_count": 8,
     "metadata": {},
     "output_type": "execute_result"
    }
   ],
   "source": [
    "x"
   ]
  },
  {
   "cell_type": "code",
   "execution_count": 9,
   "id": "52546fea",
   "metadata": {},
   "outputs": [],
   "source": [
    "z=[15,16,17]"
   ]
  },
  {
   "cell_type": "code",
   "execution_count": 10,
   "id": "f53148d1",
   "metadata": {},
   "outputs": [],
   "source": [
    "x.extend(z)"
   ]
  },
  {
   "cell_type": "code",
   "execution_count": 12,
   "id": "9e4e76a2",
   "metadata": {},
   "outputs": [
    {
     "data": {
      "text/plain": [
       "[11, 12, 13, 15, 16, 17]"
      ]
     },
     "execution_count": 12,
     "metadata": {},
     "output_type": "execute_result"
    }
   ],
   "source": [
    "x"
   ]
  },
  {
   "cell_type": "code",
   "execution_count": 15,
   "id": "e04c48da",
   "metadata": {},
   "outputs": [
    {
     "data": {
      "text/plain": [
       "2"
      ]
     },
     "execution_count": 15,
     "metadata": {},
     "output_type": "execute_result"
    }
   ],
   "source": [
    "x.index(13) #value not the position"
   ]
  },
  {
   "cell_type": "code",
   "execution_count": 16,
   "id": "39e08c3d",
   "metadata": {},
   "outputs": [],
   "source": [
    "x.insert(10,2)"
   ]
  },
  {
   "cell_type": "code",
   "execution_count": 17,
   "id": "c8cfc9fc",
   "metadata": {},
   "outputs": [
    {
     "data": {
      "text/plain": [
       "[11, 12, 13, 15, 16, 17, 2]"
      ]
     },
     "execution_count": 17,
     "metadata": {},
     "output_type": "execute_result"
    }
   ],
   "source": [
    "x"
   ]
  },
  {
   "cell_type": "code",
   "execution_count": 18,
   "id": "f38bbce3",
   "metadata": {},
   "outputs": [],
   "source": [
    "#so syntax must be first the postion and the value"
   ]
  },
  {
   "cell_type": "code",
   "execution_count": 19,
   "id": "604a131e",
   "metadata": {},
   "outputs": [],
   "source": [
    "x.insert(2,10)"
   ]
  },
  {
   "cell_type": "code",
   "execution_count": 20,
   "id": "e6ec55d3",
   "metadata": {},
   "outputs": [
    {
     "data": {
      "text/plain": [
       "[11, 12, 10, 13, 15, 16, 17, 2]"
      ]
     },
     "execution_count": 20,
     "metadata": {},
     "output_type": "execute_result"
    }
   ],
   "source": [
    "x"
   ]
  },
  {
   "cell_type": "code",
   "execution_count": 21,
   "id": "a1ac1c04",
   "metadata": {},
   "outputs": [],
   "source": [
    "x.sort()"
   ]
  },
  {
   "cell_type": "code",
   "execution_count": 22,
   "id": "e95a295e",
   "metadata": {},
   "outputs": [
    {
     "data": {
      "text/plain": [
       "[2, 10, 11, 12, 13, 15, 16, 17]"
      ]
     },
     "execution_count": 22,
     "metadata": {},
     "output_type": "execute_result"
    }
   ],
   "source": [
    "x"
   ]
  },
  {
   "cell_type": "code",
   "execution_count": 23,
   "id": "4adb1bf7",
   "metadata": {},
   "outputs": [],
   "source": [
    "x.sort(reverse=True)"
   ]
  },
  {
   "cell_type": "code",
   "execution_count": 24,
   "id": "e3275e95",
   "metadata": {},
   "outputs": [
    {
     "data": {
      "text/plain": [
       "[17, 16, 15, 13, 12, 11, 10, 2]"
      ]
     },
     "execution_count": 24,
     "metadata": {},
     "output_type": "execute_result"
    }
   ],
   "source": [
    "x"
   ]
  },
  {
   "cell_type": "code",
   "execution_count": 25,
   "id": "70a3fd1d",
   "metadata": {},
   "outputs": [
    {
     "data": {
      "text/plain": [
       "[15, 13, 12]"
      ]
     },
     "execution_count": 25,
     "metadata": {},
     "output_type": "execute_result"
    }
   ],
   "source": [
    "x[2:5]"
   ]
  },
  {
   "cell_type": "code",
   "execution_count": 26,
   "id": "2157cffc",
   "metadata": {},
   "outputs": [
    {
     "data": {
      "text/plain": [
       "[2, 10, 11, 12, 13, 15, 16, 17]"
      ]
     },
     "execution_count": 26,
     "metadata": {},
     "output_type": "execute_result"
    }
   ],
   "source": [
    "x[::-1]"
   ]
  },
  {
   "cell_type": "code",
   "execution_count": 28,
   "id": "dedf0e86",
   "metadata": {},
   "outputs": [],
   "source": [
    "y=x.copy()"
   ]
  },
  {
   "cell_type": "code",
   "execution_count": 29,
   "id": "f15258b2",
   "metadata": {
    "scrolled": true
   },
   "outputs": [
    {
     "data": {
      "text/plain": [
       "[17, 16, 15, 13, 12, 11, 10, 2]"
      ]
     },
     "execution_count": 29,
     "metadata": {},
     "output_type": "execute_result"
    }
   ],
   "source": [
    "y"
   ]
  },
  {
   "cell_type": "markdown",
   "id": "9b24db7b",
   "metadata": {},
   "source": [
    "# DAY - 2"
   ]
  },
  {
   "cell_type": "code",
   "execution_count": 1,
   "id": "91ca645b",
   "metadata": {},
   "outputs": [],
   "source": [
    "#dictionaries"
   ]
  },
  {
   "cell_type": "code",
   "execution_count": 3,
   "id": "f9fdaa32",
   "metadata": {},
   "outputs": [],
   "source": [
    "vat={\n",
    "    \"brand\":\"Ford\",\n",
    "    \"model\":\"Mustang\",\n",
    "    \"year\":\"1964\",\n",
    "    \"colors\":['red','blue','green']\n",
    "}"
   ]
  },
  {
   "cell_type": "code",
   "execution_count": 4,
   "id": "43662db8",
   "metadata": {},
   "outputs": [
    {
     "name": "stdout",
     "output_type": "stream",
     "text": [
      "{'brand': 'Ford', 'model': 'Mustang', 'year': '1964', 'colors': ['red', 'blue', 'green']}\n"
     ]
    }
   ],
   "source": [
    "print(vat)"
   ]
  },
  {
   "cell_type": "code",
   "execution_count": 5,
   "id": "59ccfc88",
   "metadata": {},
   "outputs": [
    {
     "data": {
      "text/plain": [
       "'Ford'"
      ]
     },
     "execution_count": 5,
     "metadata": {},
     "output_type": "execute_result"
    }
   ],
   "source": [
    "vat['brand']"
   ]
  },
  {
   "cell_type": "code",
   "execution_count": 6,
   "id": "33008191",
   "metadata": {},
   "outputs": [
    {
     "data": {
      "text/plain": [
       "dict_keys(['brand', 'model', 'year', 'colors'])"
      ]
     },
     "execution_count": 6,
     "metadata": {},
     "output_type": "execute_result"
    }
   ],
   "source": [
    "vat.keys()"
   ]
  },
  {
   "cell_type": "code",
   "execution_count": 7,
   "id": "3268d08b",
   "metadata": {},
   "outputs": [
    {
     "data": {
      "text/plain": [
       "dict_items([('brand', 'Ford'), ('model', 'Mustang'), ('year', '1964'), ('colors', ['red', 'blue', 'green'])])"
      ]
     },
     "execution_count": 7,
     "metadata": {},
     "output_type": "execute_result"
    }
   ],
   "source": [
    "vat.items()"
   ]
  },
  {
   "cell_type": "code",
   "execution_count": 8,
   "id": "5b29da07",
   "metadata": {},
   "outputs": [
    {
     "data": {
      "text/plain": [
       "4"
      ]
     },
     "execution_count": 8,
     "metadata": {},
     "output_type": "execute_result"
    }
   ],
   "source": [
    "len(vat)"
   ]
  },
  {
   "cell_type": "code",
   "execution_count": 9,
   "id": "6685d202",
   "metadata": {},
   "outputs": [
    {
     "data": {
      "text/plain": [
       "'Ford'"
      ]
     },
     "execution_count": 9,
     "metadata": {},
     "output_type": "execute_result"
    }
   ],
   "source": [
    "vat.get(\"brand\")"
   ]
  },
  {
   "cell_type": "code",
   "execution_count": 12,
   "id": "6d0fa139",
   "metadata": {},
   "outputs": [],
   "source": [
    "vat[\"model\"]=\"Mustnag\""
   ]
  },
  {
   "cell_type": "code",
   "execution_count": 13,
   "id": "bc7bac14",
   "metadata": {},
   "outputs": [
    {
     "data": {
      "text/plain": [
       "{'brand': 'Ford',\n",
       " 'model': 'Mustnag',\n",
       " 'year': '1964',\n",
       " 'colors': ['red', 'blue', 'green']}"
      ]
     },
     "execution_count": 13,
     "metadata": {},
     "output_type": "execute_result"
    }
   ],
   "source": [
    "vat"
   ]
  },
  {
   "cell_type": "code",
   "execution_count": 14,
   "id": "55536718",
   "metadata": {},
   "outputs": [
    {
     "name": "stdout",
     "output_type": "stream",
     "text": [
      "brand\n",
      "model\n",
      "year\n",
      "colors\n"
     ]
    }
   ],
   "source": [
    "for i in vat:\n",
    "    print(i)"
   ]
  },
  {
   "cell_type": "code",
   "execution_count": 15,
   "id": "3cea76fc",
   "metadata": {},
   "outputs": [],
   "source": [
    "vat.update({\"year\":2001})"
   ]
  },
  {
   "cell_type": "code",
   "execution_count": 16,
   "id": "1b116976",
   "metadata": {},
   "outputs": [
    {
     "data": {
      "text/plain": [
       "{'brand': 'Ford',\n",
       " 'model': 'Mustnag',\n",
       " 'year': 2001,\n",
       " 'colors': ['red', 'blue', 'green']}"
      ]
     },
     "execution_count": 16,
     "metadata": {},
     "output_type": "execute_result"
    }
   ],
   "source": [
    "vat"
   ]
  },
  {
   "cell_type": "code",
   "execution_count": null,
   "id": "2328dee1",
   "metadata": {},
   "outputs": [],
   "source": [
    "print(\"**\")\n",
    "print(vat.pop('year'))\n",
    "print(vat)\n",
    "print(vat.popitem())\n",
    "print(vat)\n",
    "del vat['model']\n",
    "print(vat)\n",
    "#del vat\n",
    "#vat.clear()\n",
    "vat['model']='Mustang'\n",
    "print(vat)\n",
    "for x in vat:\n",
    "    print(x)\n",
    "print(\"--\")"
   ]
  },
  {
   "cell_type": "code",
   "execution_count": 17,
   "id": "e4cc7b88",
   "metadata": {},
   "outputs": [
    {
     "data": {
      "text/plain": [
       "dict_values(['Ford', 'Mustnag', 2001, ['red', 'blue', 'green']])"
      ]
     },
     "execution_count": 17,
     "metadata": {},
     "output_type": "execute_result"
    }
   ],
   "source": [
    "vat.values()"
   ]
  },
  {
   "cell_type": "code",
   "execution_count": 18,
   "id": "0b1b1a6d",
   "metadata": {},
   "outputs": [
    {
     "name": "stdout",
     "output_type": "stream",
     "text": [
      "brand Ford\n",
      "model Mustnag\n",
      "year 2001\n",
      "colors ['red', 'blue', 'green']\n"
     ]
    }
   ],
   "source": [
    "for x,y in vat.items():\n",
    "    print(x,y)"
   ]
  }
 ],
 "metadata": {
  "kernelspec": {
   "display_name": "Python 3 (ipykernel)",
   "language": "python",
   "name": "python3"
  },
  "language_info": {
   "codemirror_mode": {
    "name": "ipython",
    "version": 3
   },
   "file_extension": ".py",
   "mimetype": "text/x-python",
   "name": "python",
   "nbconvert_exporter": "python",
   "pygments_lexer": "ipython3",
   "version": "3.9.7"
  }
 },
 "nbformat": 4,
 "nbformat_minor": 5
}
